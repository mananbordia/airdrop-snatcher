{
 "cells": [
  {
   "cell_type": "code",
   "execution_count": 1,
   "metadata": {
    "id": "E48MLriqUSWH"
   },
   "outputs": [],
   "source": [
    "# Remove this to show output\n",
    "%%capture \n",
    "!pip install git+https://github.com/mananbordia/rabbitx-python-client-test.git@main\n",
    "\n",
    "from google.colab import drive\n",
    "drive.mount('/content/drive')"
   ]
  },
  {
   "attachments": {},
   "cell_type": "markdown",
   "metadata": {
    "id": "lvTGhFIXCkQQ"
   },
   "source": [
    "## Working Solution\n",
    "\n",
    "Steps:\n",
    "1. Authenticate with wallet.\n",
    "2. Send check opening balance\n",
    "3. Set leverage to 1x\n",
    "4. Create long and short order afte every 30 seconds\n",
    "5. Size: 0.001; Market Id : BTC-USD\n",
    "6. If current balance - opening balance < allowed negative delta, stop the system.\n",
    "7. If any of the api calls fail we stop the system.\n",
    "8. Maximum order count (default) : 50\n"
   ]
  },
  {
   "cell_type": "code",
   "execution_count": 43,
   "metadata": {
    "id": "tBfppLiBkSHi"
   },
   "outputs": [],
   "source": [
    "from enum import Enum\n",
    "from datetime import datetime\n",
    "import json\n",
    "import time\n",
    "import random\n",
    "\n",
    "from rabbitx import const\n",
    "from rabbitx.client import Client, CandlePeriod, OrderSide, OrderType, OrderStatus, OpsType\n",
    "from IPython.display import Audio, display\n",
    "\n",
    "\n",
    "class MarketIds(Enum):\n",
    "  ETH = \"ETH-USD\"\n",
    "  BTC = \"BTC-USD\"\n",
    "  SOL = \"SOL-USD\"\n",
    "  ARB = \"ARB-USD\" # Only works on prod\n",
    "\n",
    "\n",
    "def trigger_alarm():\n",
    "  sound_file='./alarm.mp3'\n",
    "  for _ in range(1):\n",
    "    display(Audio(sound_file, autoplay=True))\n",
    "    time.sleep(11)\n",
    "\n",
    "def jprint(value):\n",
    "  print(json.dumps(value,indent=2))"
   ]
  },
  {
   "cell_type": "code",
   "execution_count": 59,
   "metadata": {
    "id": "sBT2nLM_Ne-_"
   },
   "outputs": [],
   "source": [
    "def create_client_and_onboard(private_key:str, api_url):\n",
    "  client = Client(api_url=api_url, private_key=private_key)\n",
    "  # Authenticate\n",
    "  onboarding_resp = client.onboarding.onboarding()\n",
    "  # jprint(onboarding_resp)\n",
    "  return client, onboarding_resp\n",
    "\n",
    "def set_leverage(client:Client, market_id:MarketIds, leverage:int):\n",
    "  return client.account.set_leverage(market_id.value, leverage=leverage)\n",
    "\n",
    "def place_order(client:Client,\n",
    "                market_id:MarketIds,\n",
    "                size:int, \n",
    "                side:OrderSide,\n",
    "                txn_id:int=0,\n",
    "                price:float=0.0001,\n",
    "                type_:OrderType=OrderType.MARKET):\n",
    "  \n",
    "  # Todo: Check for unusual cases\n",
    "\n",
    "  # Fixme: Check if price not provided and is a limit order\n",
    "  if price == 0.0001 and type_ == OrderType.LIMIT:\n",
    "    raise Exception(\"You need to provide price while placing LIMIT order\")\n",
    "\n",
    "  market_price = get_current_market_price(client,market_id)\n",
    "  total_amount = market_price * size\n",
    "\n",
    "  if total_amount > 500:\n",
    "    raise Exception(\"Unusual order with total amount > $500\")\n",
    "\n",
    "  jprint(\"Txn-{} {}: {} initiated | amount {} | size {} | market price ${}\".format(txn_id,market_id.value,side.value,total_amount,size,market_price))\n",
    "  order_resp = client.orders.create(\n",
    "      market_id=market_id.value,\n",
    "      size=size,\n",
    "      side=side,\n",
    "      type_=type_,\n",
    "      price=price\n",
    "  )\n",
    "  jprint(\"Txn-{} {}: {} placed\".format(txn_id,market_id.value,side.value))\n",
    "  return order_resp\n",
    "\n",
    "def get_balance_history(client:Client):\n",
    "  return client.balance.list()\n",
    "\n",
    "def get_balance(client:Client):\n",
    "  return float(client.account.get().get('balance'))\n",
    "\n",
    "def print_recent_balance_change(ops_type:OpsType, history):\n",
    "  ops_type = ops_type.value\n",
    "  ops_history = list(filter(lambda x: x.get('ops_type')==ops_type, history))\n",
    "  mapped_values = list(map(lambda x: {\n",
    "      \"amount\": x.get('amount'),\n",
    "      \"at\": datetime.utcfromtimestamp(19800 + int(x.get('timestamp')/1000000)).strftime('%d %b, %Y - %H:%M:%S')},\n",
    "      ops_history))\n",
    "  recent_entry = mapped_values[:1]\n",
    "  if len(recent_entry) == 1:\n",
    "    jprint(\"{} history -> amount: {} | at = {}\".format(ops_type, recent_entry[0].get('amount'), recent_entry[0].get('at')))\n",
    "  else:\n",
    "    jprint(\"No {} history found\".format(ops_type))\n",
    "\n",
    "def show_balance_details(client:Client, opening_balance:float):\n",
    "  # Info: We can check fees, funding, withdraw, deposit, pnl\n",
    "  current_balance = get_balance(client)\n",
    "  jprint(\"Current Balance: {}\".format(current_balance))\n",
    "  jprint(\"Delta in balance (CurB - OpenB): {}\".format(current_balance - opening_balance))\n",
    "  balance_history = get_balance_history(client)\n",
    "  print_recent_balance_change(OpsType.FEE, balance_history)\n",
    "  print_recent_balance_change(OpsType.PNL, balance_history)\n",
    "\n",
    "  if current_balance - opening_balance <= -10:\n",
    "    raise Exception(\"You have lost over $10. Stopping system\")\n",
    "  # print_recent_balance_change(OpsType.FUNDING, balance_history)\n",
    "\n",
    "def get_position_list(client:Client):\n",
    "  return client.positions.list()\n",
    "\n",
    "def print_position_data(position):\n",
    "  market_id = position.get('market_id')\n",
    "  side = position.get('side')\n",
    "  size = float(position.get('size'))\n",
    "  unrealized_pnl = float(position.get('unrealized_pnl'))\n",
    "  jprint(\"{}-> {} | size: {} | unrealised pnl: {}\".format(market_id,side,size,round(unrealized_pnl,2)))\n",
    "\n",
    "def show_position_details(client:Client):\n",
    "  pos_list = get_position_list(client)\n",
    "  mapped_pos_list = list(map(lambda x: {\n",
    "      'market_id': x.get('market_id'),\n",
    "      'side': x.get('side'),\n",
    "      'size': x.get('size'),\n",
    "      'unrealized_pnl': x.get('unrealized_pnl')\n",
    "  }, pos_list))\n",
    "  for pos in mapped_pos_list:\n",
    "    print_position_data(pos)\n",
    "\n",
    "def get_current_market_price(client:Client, market_id:MarketIds):\n",
    "  market_list = client.markets.list()\n",
    "  current_price = list(filter(lambda x: x.get('id') == market_id.value, market_list))[0].get('market_price')\n",
    "  return float(current_price)\n",
    "\n",
    "def close_position(client:Client, market_id:MarketIds, txn_id:int=0):\n",
    "  pos_list = get_position_list(client)\n",
    "  pos = next((filter(lambda x: x.get('market_id')==market_id.value,pos_list)), None)\n",
    "  if pos:\n",
    "    size=float(pos.get('size'))\n",
    "    side=next((osize for osize in list(OrderSide) if pos.get('side') != osize.value), None)\n",
    "    place_order(client, market_id, size, side, txn_id=txn_id)\n",
    "  else:\n",
    "    jprint(\"Position already closed.\")\n",
    "    \n",
    "def get_total_trading_volm(client:Client):\n",
    "    return float(client.profile.get().get('cum_trading_volume'))\n"
   ]
  },
  {
   "cell_type": "code",
   "execution_count": 60,
   "metadata": {
    "id": "VZa1WaHJkfbq"
   },
   "outputs": [],
   "source": [
    "def execute_v1(private_key, market_ids:list[MarketIds], weights:list[int], amount_range:list[float], leverage:int=1, max_order:int=10, api_url=const.DEV_URL):\n",
    "  try:\n",
    "    client, _ = create_client_and_onboard(private_key,api_url)\n",
    "    \n",
    "    jprint(\"Running on {}\".format(api_url))\n",
    "\n",
    "    opening_balance = get_balance(client)\n",
    "    jprint(\"Opening Balance: {}\".format(opening_balance))\n",
    "    opening_total_trading_volm = get_total_trading_volm(client)\n",
    "    jprint(\"Cummulative Trading Volm: {}\".format(opening_total_trading_volm))\n",
    "\n",
    "    last_total_trading_volm = opening_total_trading_volm\n",
    "    \n",
    "    no_change_trading_volm_count = 0\n",
    "    order_count = 0\n",
    "    if len(amount_range) != 2 or amount_range[0] > amount_range[1]:\n",
    "      raise Exception(\"Provide proper amount range: {}-{}\".format(amount_range[0], amount_range[1]))\n",
    "\n",
    "    while(True):\n",
    "      print('\\n\\n')\n",
    "      jprint(\"################## Start ##################\")\n",
    "      \n",
    "      # Try to set leverage to req_leverage\n",
    "      while(True):\n",
    "        [market_id] = random.choices(market_ids, weights=weights)\n",
    "        cur_leverage = int(set_leverage(client, market_id, leverage).get('leverage').get(market_id.value))\n",
    "        if cur_leverage != leverage:\n",
    "          jprint(\"Unable to set leverage. Trying again. Current leverage: {}x\".format(cur_leverage))\n",
    "        else:\n",
    "          jprint(\"Leverage set to {}x\".format(cur_leverage))\n",
    "          break\n",
    "\n",
    "      order_count += 1 # Optimistic\n",
    "      # side = OrderSide.SHORT if order_count % 2 else OrderSide.LONG\n",
    "        \n",
    "      curr_balance = get_balance(client)\n",
    "      amount_range[1] = min(curr_balance - 0.5, amount_range[1])\n",
    "      amount_range[0] = min(curr_balance - 0.5, amount_range[0])\n",
    "\n",
    "      if amount_range[0] < 0:\n",
    "        raise Exception(\"Insufficient balance\")\n",
    "      \n",
    "      order_amount = random.uniform(amount_range[0], amount_range[1]) * cur_leverage\n",
    "      cur_market_price = get_current_market_price(client, market_id)\n",
    "      size = round(order_amount / cur_market_price,3)\n",
    "      side = OrderSide.LONG\n",
    "      # Info: Placing only market order\n",
    "      place_order(client,market_id,size,side,txn_id=order_count)\n",
    "    \n",
    "      jprint(\"-------------Closing open position-----------\")\n",
    "      show_position_details(client)\n",
    "      close_position(client, market_id, order_count)\n",
    "      show_position_details(client)\n",
    "      jprint(\"-----------------Stats---------------------\")\n",
    "      show_balance_details(client, opening_balance)\n",
    "      curr_total_trading_volm = get_total_trading_volm(client)\n",
    "\n",
    "      delta_trading_volm = curr_total_trading_volm - opening_total_trading_volm\n",
    "      curr_delta_trading_volm = curr_total_trading_volm - last_total_trading_volm\n",
    "      last_total_trading_volm = curr_total_trading_volm \n",
    "      \n",
    "      if curr_delta_trading_volm < 0.1:\n",
    "        no_change_trading_volm_count += 1\n",
    "        if no_change_trading_volm_count == 3:\n",
    "          raise Exception(\"No change in trading volm. Please check...\")\n",
    "      else:\n",
    "        no_change_trading_volm_count = 0\n",
    "\n",
    "      jprint(\"Total Volm Gain (approx) : {}\".format(delta_trading_volm))\n",
    "      if order_count >= max_order:\n",
    "        jprint(\"Max order limit reached. Order Count: {}.\".format(order_count))\n",
    "        break\n",
    "\n",
    "      sleep_time = random.randint(10, 20)\n",
    "      jprint(\"Sleeping for {} seconds before placing next order\".format(sleep_time))\n",
    "      time.sleep(sleep_time)\n",
    "\n",
    "  except KeyboardInterrupt as ke:\n",
    "    print(\"Stopping as per user's request\")\n",
    "  except Exception as e:\n",
    "    print(\"Something went wrong: \",e)\n",
    "    trigger_alarm()"
   ]
  },
  {
   "attachments": {},
   "cell_type": "markdown",
   "metadata": {
    "id": "UI6-fNSxgObH"
   },
   "source": [
    "# Execute this to place orders"
   ]
  },
  {
   "cell_type": "code",
   "execution_count": 64,
   "metadata": {
    "colab": {
     "base_uri": "https://localhost:8080/",
     "height": 1000
    },
    "id": "U9rCFTRiTkxg",
    "outputId": "55690a1c-71bf-4c1a-f469-ea3139450820"
   },
   "outputs": [
    {
     "name": "stdout",
     "output_type": "stream",
     "text": [
      "IP address:\n",
      "49.207.195.245\n",
      "\"Running on https://api.prod.rabbitx.io\"\n",
      "\"Opening Balance: 2.98136498\"\n",
      "\"Cummulative Trading Volm: 10180.7586\"\n",
      "\n",
      "\n",
      "\n",
      "\"################## Start ##################\"\n",
      "\"Leverage set to 20x\"\n",
      "\"Txn-1 ETH-USD: long initiated | amount 50.13765 | size 0.027 | market price $1856.95\"\n",
      "\"Txn-1 ETH-USD: long placed\"\n",
      "\"-------------Closing open position-----------\"\n",
      "\"BTC-USD-> long | size: 0.002 | unrealised pnl: -0.0\"\n",
      "\"Position already closed.\"\n",
      "\"BTC-USD-> long | size: 0.002 | unrealised pnl: -0.0\"\n",
      "\"-----------------Stats---------------------\"\n",
      "\"Current Balance: 2.98136498\"\n",
      "\"Delta in balance (CurB - OpenB): 0.0\"\n",
      "\"fee history -> amount: -0.039039 | at = 09 Apr, 2023 - 00:31:25\"\n",
      "\"pnl history -> amount: -0.014 | at = 09 Apr, 2023 - 00:31:04\"\n",
      "\"Total Volm Gain (approx) : 0.0\"\n",
      "\"Sleeping for 19 seconds before placing next order\"\n",
      "Stopping as per user's request\n"
     ]
    }
   ],
   "source": [
    "# Print IP address\n",
    "print(\"IP address:\")\n",
    "!curl ipecho.net/plain\n",
    "print('\\n')\n",
    "# Change this with your private key\n",
    "private_key = '0x0000000000000000000000000000000000000000000000000000000000000001'\n",
    "# Please be careful about size\n",
    "# Todo: write algo which works via USDTs\n",
    "amount_range = [8.0, 10.0]\n",
    "execute_v1(private_key,\n",
    "           [MarketIds.ETH, MarketIds.BTC],\n",
    "           [1,1],\n",
    "           amount_range,\n",
    "           leverage=20,\n",
    "           max_order=100,\n",
    "           api_url=const.URL)"
   ]
  },
  {
   "cell_type": "code",
   "execution_count": 63,
   "metadata": {
    "colab": {
     "base_uri": "https://localhost:8080/"
    },
    "id": "xguF8-g1jizK",
    "outputId": "1763b21d-415b-4b19-e907-e1583a108077"
   },
   "outputs": [
    {
     "name": "stdout",
     "output_type": "stream",
     "text": [
      "49.207.195.245"
     ]
    }
   ],
   "source": [
    "!curl ipecho.net/plain"
   ]
  },
  {
   "attachments": {},
   "cell_type": "markdown",
   "metadata": {
    "id": "sW_CJHqLOfKi"
   },
   "source": [
    "## Experiment-1 with 2 orders (immediate close)\n",
    "- Both were placed as long order and immediately closed.\n",
    "- Time dif b/w both the long orders  20 - 40 seconds "
   ]
  },
  {
   "cell_type": "code",
   "execution_count": null,
   "metadata": {
    "id": "iZ45lksMOfKi",
    "outputId": "1a15b157-89ea-482b-a119-3cdb21606af2"
   },
   "outputs": [
    {
     "name": "stdout",
     "output_type": "stream",
     "text": [
      "Total Cost of Experiment: 0.08432413000000061 USD\n",
      "Total Volume Gain in Experiment: 229.36000000000058 USD\n",
      "Cost req for 100k vol: 36.764967736309906 USD\n"
     ]
    }
   ],
   "source": [
    "opening_bal = 7.29844\n",
    "end_bal = 7.21411587\n",
    "total_cost = opening_bal - end_bal\n",
    "vol_start = 11355.93\n",
    "vol_end = 11585.29\n",
    "vol_gain = vol_end - vol_start\n",
    "total_time = 30\n",
    "\n",
    "cost_per_vol_unit = total_cost / vol_gain\n",
    "print(\"Total Cost of Experiment: {} USD\".format(total_cost))\n",
    "print(\"Total Volume Gain in Experiment: {} USD\".format(vol_gain))\n",
    "print(\"Cost req for 100k vol: {} USD\".format(cost_per_vol_unit * 100000))\n",
    "print(\"Total Time Required ~{} seconds\".total_time)"
   ]
  },
  {
   "attachments": {},
   "cell_type": "markdown",
   "metadata": {
    "id": "6E3aCdZ6OfKi"
   },
   "source": [
    "## Experiment-2 with 2 orders (close with wait)\n",
    "- Both long orders.\n",
    "- Position for was closed after 10 - 20 of wait time.\n",
    "- Time dif b/w both the long orders  20 - 40 seconds "
   ]
  },
  {
   "cell_type": "code",
   "execution_count": null,
   "metadata": {
    "id": "zvwCS10vOfKj",
    "outputId": "cd559edd-afae-4779-ffb7-0a8ca9e92a9f"
   },
   "outputs": [
    {
     "name": "stdout",
     "output_type": "stream",
     "text": [
      "Cost req for 100k vol: 72.61589799476899 USD\n"
     ]
    }
   ],
   "source": [
    "opening_bal = 7.13179987\n",
    "end_bal = 6.965219\n",
    "total_cost = opening_bal - end_bal\n",
    "vol_start = 11585.29\n",
    "vol_end = 11814.69\n",
    "vol_gain = vol_end - vol_start\n",
    "total_time = 30\n",
    "\n",
    "cost_per_vol_unit = total_cost / vol_gain\n",
    "print(\"Cost req for 100k vol: {} USD\".format(cost_per_vol_unit * 100000))"
   ]
  },
  {
   "cell_type": "code",
   "execution_count": null,
   "metadata": {
    "id": "dE_sfao8OfKj",
    "outputId": "49083bb1-3b92-4d24-cd7c-2239bbe6e41c"
   },
   "outputs": [
    {
     "data": {
      "text/plain": [
       "0.00036764967736309905"
      ]
     },
     "execution_count": 60,
     "metadata": {},
     "output_type": "execute_result"
    }
   ],
   "source": [
    "cost_per_vol_unit"
   ]
  },
  {
   "cell_type": "code",
   "execution_count": 10,
   "metadata": {
    "id": "4FCOfxwbOfKj"
   },
   "outputs": [
    {
     "data": {
      "text/plain": [
       "1"
      ]
     },
     "execution_count": 10,
     "metadata": {},
     "output_type": "execute_result"
    }
   ],
   "source": [
    "random.randint(0,1)"
   ]
  },
  {
   "cell_type": "code",
   "execution_count": 33,
   "metadata": {},
   "outputs": [
    {
     "data": {
      "text/plain": [
       "[2]"
      ]
     },
     "execution_count": 33,
     "metadata": {},
     "output_type": "execute_result"
    }
   ],
   "source": [
    "random.choices([1,2,3], weights=[10,10,1])"
   ]
  },
  {
   "cell_type": "code",
   "execution_count": null,
   "metadata": {},
   "outputs": [],
   "source": []
  }
 ],
 "metadata": {
  "colab": {
   "provenance": []
  },
  "kernelspec": {
   "display_name": "Python 3 (ipykernel)",
   "language": "python",
   "name": "python3"
  },
  "language_info": {
   "codemirror_mode": {
    "name": "ipython",
    "version": 3
   },
   "file_extension": ".py",
   "mimetype": "text/x-python",
   "name": "python",
   "nbconvert_exporter": "python",
   "pygments_lexer": "ipython3",
   "version": "3.9.5"
  }
 },
 "nbformat": 4,
 "nbformat_minor": 1
}
